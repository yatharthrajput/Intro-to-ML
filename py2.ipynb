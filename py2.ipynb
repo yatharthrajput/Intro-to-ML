{
 "cells": [
  {
   "cell_type": "code",
   "execution_count": 2,
   "id": "776aa1f6",
   "metadata": {},
   "outputs": [],
   "source": [
    "arr=[\"hello\",\"yath\",\"has no\",\"words\"]"
   ]
  },
  {
   "cell_type": "code",
   "execution_count": 24,
   "id": "6aecb65f",
   "metadata": {},
   "outputs": [
    {
     "data": {
      "text/plain": [
       "'y'"
      ]
     },
     "execution_count": 24,
     "metadata": {},
     "output_type": "execute_result"
    }
   ],
   "source": [
    "arr[1][0]"
   ]
  },
  {
   "cell_type": "code",
   "execution_count": 44,
   "id": "b33248c7",
   "metadata": {},
   "outputs": [
    {
     "name": "stdout",
     "output_type": "stream",
     "text": [
      "l\n",
      "1\n",
      "2\n",
      "3\n",
      "4\n"
     ]
    }
   ],
   "source": [
    "count=0\n",
    "for i in range(len(arr)):\n",
    "    for j in range(len(arr[i])-1):\n",
    "        if(arr[i][j]==arr[i][j+1]):\n",
    "            count=count+0\n",
    "            print(arr[i][j])\n",
    "    count=count+1\n",
    "    print(count)\n"
   ]
  },
  {
   "cell_type": "code",
   "execution_count": 3,
   "id": "d84f2412",
   "metadata": {},
   "outputs": [
    {
     "data": {
      "text/plain": [
       "'h'"
      ]
     },
     "execution_count": 3,
     "metadata": {},
     "output_type": "execute_result"
    }
   ],
   "source": [
    "arr[0][0]"
   ]
  },
  {
   "cell_type": "code",
   "execution_count": 5,
   "id": "eb5f7901",
   "metadata": {},
   "outputs": [
    {
     "name": "stdout",
     "output_type": "stream",
     "text": [
      "hello\n",
      "yath\n",
      "has no\n",
      "words\n"
     ]
    }
   ],
   "source": [
    "for i in range(len(arr)):\n",
    "    print(arr[i])"
   ]
  },
  {
   "cell_type": "code",
   "execution_count": 33,
   "id": "c918cdc4",
   "metadata": {},
   "outputs": [
    {
     "name": "stdout",
     "output_type": "stream",
     "text": [
      "1 2 3\n"
     ]
    }
   ],
   "source": [
    "a= input().split()"
   ]
  },
  {
   "cell_type": "code",
   "execution_count": 34,
   "id": "1f0ac748",
   "metadata": {},
   "outputs": [],
   "source": [
    "b=set(a)"
   ]
  },
  {
   "cell_type": "code",
   "execution_count": 35,
   "id": "5dab60c0",
   "metadata": {},
   "outputs": [
    {
     "data": {
      "text/plain": [
       "{'1', '2', '3'}"
      ]
     },
     "execution_count": 35,
     "metadata": {},
     "output_type": "execute_result"
    }
   ],
   "source": [
    "b"
   ]
  },
  {
   "cell_type": "code",
   "execution_count": 36,
   "id": "9da705e1",
   "metadata": {},
   "outputs": [],
   "source": [
    "b=sorted(b)"
   ]
  },
  {
   "cell_type": "code",
   "execution_count": 37,
   "id": "2559a993",
   "metadata": {},
   "outputs": [
    {
     "data": {
      "text/plain": [
       "['1', '2', '3']"
      ]
     },
     "execution_count": 37,
     "metadata": {},
     "output_type": "execute_result"
    }
   ],
   "source": [
    "b"
   ]
  },
  {
   "cell_type": "code",
   "execution_count": 38,
   "id": "9f3a28f7",
   "metadata": {},
   "outputs": [],
   "source": [
    "if (len(a)<2):\n",
    "    print(\"-1\")\n",
    "if(b[-2]==b[0]):\n",
    "    print(\"-1\")\n",
    "    "
   ]
  },
  {
   "cell_type": "code",
   "execution_count": 26,
   "id": "52abc950",
   "metadata": {},
   "outputs": [
    {
     "name": "stdout",
     "output_type": "stream",
     "text": [
      "1 2 3 4\n",
      "234\n",
      "3\n",
      "2\n",
      "4\n"
     ]
    }
   ],
   "source": [
    "A = input().split()"
   ]
  },
  {
   "cell_type": "code",
   "execution_count": 27,
   "id": "ede5b805",
   "metadata": {},
   "outputs": [
    {
     "data": {
      "text/plain": [
       "['4']"
      ]
     },
     "execution_count": 27,
     "metadata": {},
     "output_type": "execute_result"
    }
   ],
   "source": [
    "A"
   ]
  },
  {
   "cell_type": "code",
   "execution_count": 25,
   "id": "2e235b8f",
   "metadata": {},
   "outputs": [
    {
     "name": "stdout",
     "output_type": "stream",
     "text": [
      "3\n",
      "1 2 3\n",
      "-1\n",
      "4\n"
     ]
    },
    {
     "ename": "IndexError",
     "evalue": "list index out of range",
     "output_type": "error",
     "traceback": [
      "\u001b[1;31m---------------------------------------------------------------------------\u001b[0m",
      "\u001b[1;31mIndexError\u001b[0m                                Traceback (most recent call last)",
      "\u001b[1;32m<ipython-input-25-7c972bfc92db>\u001b[0m in \u001b[0;36m<module>\u001b[1;34m\u001b[0m\n\u001b[0;32m      9\u001b[0m \u001b[1;33m\u001b[0m\u001b[0m\n\u001b[0;32m     10\u001b[0m     \u001b[1;32mfor\u001b[0m \u001b[0mi\u001b[0m \u001b[1;32min\u001b[0m \u001b[0mrange\u001b[0m\u001b[1;33m(\u001b[0m\u001b[1;36m1\u001b[0m\u001b[1;33m,\u001b[0m \u001b[0mN\u001b[0m \u001b[1;33m+\u001b[0m \u001b[1;36m1\u001b[0m\u001b[1;33m)\u001b[0m\u001b[1;33m:\u001b[0m\u001b[1;33m\u001b[0m\u001b[1;33m\u001b[0m\u001b[0m\n\u001b[1;32m---> 11\u001b[1;33m         \u001b[0mA\u001b[0m\u001b[1;33m[\u001b[0m\u001b[0mi\u001b[0m\u001b[1;33m]\u001b[0m \u001b[1;33m=\u001b[0m \u001b[0mint\u001b[0m\u001b[1;33m(\u001b[0m\u001b[0mA\u001b[0m\u001b[1;33m[\u001b[0m\u001b[0mi\u001b[0m\u001b[1;33m]\u001b[0m\u001b[1;33m)\u001b[0m\u001b[1;33m\u001b[0m\u001b[1;33m\u001b[0m\u001b[0m\n\u001b[0m\u001b[0;32m     12\u001b[0m \u001b[1;33m\u001b[0m\u001b[0m\n\u001b[0;32m     13\u001b[0m     \u001b[1;32mfor\u001b[0m \u001b[0mi\u001b[0m \u001b[1;32min\u001b[0m \u001b[0mrange\u001b[0m\u001b[1;33m(\u001b[0m\u001b[1;36m1\u001b[0m\u001b[1;33m,\u001b[0m \u001b[0mN\u001b[0m \u001b[1;33m+\u001b[0m \u001b[1;36m1\u001b[0m\u001b[1;33m)\u001b[0m\u001b[1;33m:\u001b[0m\u001b[1;33m\u001b[0m\u001b[1;33m\u001b[0m\u001b[0m\n",
      "\u001b[1;31mIndexError\u001b[0m: list index out of range"
     ]
    }
   ],
   "source": [
    "T = int(input())\n",
    "    \n",
    "while T > 0:\n",
    "    \n",
    "    A = input().split()\n",
    "    N = int(A[0])\n",
    "    \n",
    "    largeIdx = 1\n",
    "    \n",
    "    for i in range(1, N + 1):\n",
    "        A[i] = int(A[i])\n",
    "        \n",
    "    for i in range(1, N + 1):\n",
    "        if A[i] > A[largeIdx]:\n",
    "            largeIdx = i\n",
    "        \n",
    "    secondLargest = -1\n",
    "    \n",
    "    for i in range(1, N + 1):\n",
    "        if i != largeIdx:\n",
    "            secondLargest = max(secondLargest, A[i])\n",
    "\n",
    "    print(secondLargest)\n",
    "    T -= 1\n",
    "    \n",
    "return 0"
   ]
  },
  {
   "cell_type": "code",
   "execution_count": 49,
   "id": "cd18c3cf",
   "metadata": {},
   "outputs": [],
   "source": [
    "a=[\"hello\",\"yath\",\"bye\",\"ttt\"]"
   ]
  },
  {
   "cell_type": "code",
   "execution_count": 54,
   "id": "92e2ad35",
   "metadata": {},
   "outputs": [
    {
     "name": "stdout",
     "output_type": "stream",
     "text": [
      "l\n",
      "value of i,j is 0 3\n",
      "value of i,j is 1 2\n",
      "value of i,j is 2 1\n",
      "t\n",
      "t\n",
      "value of i,j is 3 1\n"
     ]
    }
   ],
   "source": [
    "count=0\n",
    "for i in range(len(a)):\n",
    "    for j in range(len(a[i])-1):\n",
    "        if(a[i][j]==a[i][j+1]):\n",
    "            print(a[i][j])\n",
    "    print(\"value of i,j is\",i,j)\n"
   ]
  },
  {
   "cell_type": "code",
   "execution_count": 58,
   "id": "dc52b8be",
   "metadata": {},
   "outputs": [],
   "source": [
    "h=[1,2,4,5]\n",
    "h.insert(4,6)"
   ]
  },
  {
   "cell_type": "code",
   "execution_count": 59,
   "id": "30263206",
   "metadata": {},
   "outputs": [
    {
     "data": {
      "text/plain": [
       "[1, 2, 4, 5, 6]"
      ]
     },
     "execution_count": 59,
     "metadata": {},
     "output_type": "execute_result"
    }
   ],
   "source": [
    "h"
   ]
  },
  {
   "cell_type": "code",
   "execution_count": 71,
   "id": "f8e401a2",
   "metadata": {},
   "outputs": [
    {
     "data": {
      "text/plain": [
       "98"
      ]
     },
     "execution_count": 71,
     "metadata": {},
     "output_type": "execute_result"
    }
   ],
   "source": [
    "ord(\"b\")"
   ]
  },
  {
   "cell_type": "code",
   "execution_count": 73,
   "id": "c537d16f",
   "metadata": {},
   "outputs": [
    {
     "name": "stdout",
     "output_type": "stream",
     "text": [
      "b\n"
     ]
    }
   ],
   "source": [
    "a=\"aabbcc\"\n",
    "count=0\n",
    "b=98\n",
    "for i in range(len(a)):\n",
    "    if ord(a[i])==b:\n",
    "        continue\n",
    "    else:\n",
    "        count=count+1"
   ]
  },
  {
   "cell_type": "code",
   "execution_count": null,
   "id": "4ba02b54",
   "metadata": {},
   "outputs": [],
   "source": []
  }
 ],
 "metadata": {
  "kernelspec": {
   "display_name": "Python 3",
   "language": "python",
   "name": "python3"
  },
  "language_info": {
   "codemirror_mode": {
    "name": "ipython",
    "version": 3
   },
   "file_extension": ".py",
   "mimetype": "text/x-python",
   "name": "python",
   "nbconvert_exporter": "python",
   "pygments_lexer": "ipython3",
   "version": "3.8.8"
  }
 },
 "nbformat": 4,
 "nbformat_minor": 5
}
