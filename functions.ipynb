{
 "cells": [
  {
   "cell_type": "code",
   "execution_count": 6,
   "id": "51594f6d",
   "metadata": {},
   "outputs": [],
   "source": [
    "def size(a):\n",
    "    if(a>10 and a<20):\n",
    "        return \"s\"\n",
    "    elif (a>20):\n",
    "        return \"m\"\n",
    "    \n",
    "    "
   ]
  },
  {
   "cell_type": "code",
   "execution_count": 7,
   "id": "87ae10cd",
   "metadata": {},
   "outputs": [
    {
     "data": {
      "text/plain": [
       "'m'"
      ]
     },
     "execution_count": 7,
     "metadata": {},
     "output_type": "execute_result"
    }
   ],
   "source": [
    "size(25)"
   ]
  },
  {
   "cell_type": "code",
   "execution_count": null,
   "id": "fbe9ac80",
   "metadata": {},
   "outputs": [],
   "source": [
    "heights=[123,432,542,123,432,532,122]"
   ]
  },
  {
   "cell_type": "code",
   "execution_count": 8,
   "id": "10014dba",
   "metadata": {},
   "outputs": [
    {
     "ename": "SyntaxError",
     "evalue": "unexpected EOF while parsing (<ipython-input-8-cb9c07dfd8b3>, line 2)",
     "output_type": "error",
     "traceback": [
      "\u001b[1;36m  File \u001b[1;32m\"<ipython-input-8-cb9c07dfd8b3>\"\u001b[1;36m, line \u001b[1;32m2\u001b[0m\n\u001b[1;33m    \u001b[0m\n\u001b[1;37m    ^\u001b[0m\n\u001b[1;31mSyntaxError\u001b[0m\u001b[1;31m:\u001b[0m unexpected EOF while parsing\n"
     ]
    }
   ],
   "source": [
    "def stats(heights):\n",
    "    "
   ]
  },
  {
   "cell_type": "code",
   "execution_count": 11,
   "id": "224ae606",
   "metadata": {},
   "outputs": [
    {
     "data": {
      "text/plain": [
       "True"
      ]
     },
     "execution_count": 11,
     "metadata": {},
     "output_type": "execute_result"
    }
   ],
   "source": [
    "6>False"
   ]
  },
  {
   "cell_type": "code",
   "execution_count": 54,
   "id": "203cd538",
   "metadata": {},
   "outputs": [
    {
     "data": {
      "text/plain": [
       "10.0"
      ]
     },
     "execution_count": 54,
     "metadata": {},
     "output_type": "execute_result"
    }
   ],
   "source": [
    "(lambda a :math.sqrt(a) )(100)"
   ]
  },
  {
   "cell_type": "code",
   "execution_count": 14,
   "id": "82e07596",
   "metadata": {},
   "outputs": [],
   "source": [
    "import math"
   ]
  },
  {
   "cell_type": "code",
   "execution_count": 15,
   "id": "2faa42e0",
   "metadata": {},
   "outputs": [
    {
     "ename": "NameError",
     "evalue": "name 'sqrt' is not defined",
     "output_type": "error",
     "traceback": [
      "\u001b[1;31m---------------------------------------------------------------------------\u001b[0m",
      "\u001b[1;31mNameError\u001b[0m                                 Traceback (most recent call last)",
      "\u001b[1;32m<ipython-input-15-79301f9b64f1>\u001b[0m in \u001b[0;36m<module>\u001b[1;34m\u001b[0m\n\u001b[1;32m----> 1\u001b[1;33m \u001b[0msqrt\u001b[0m\u001b[1;33m(\u001b[0m\u001b[1;36m100\u001b[0m\u001b[1;33m)\u001b[0m\u001b[1;33m\u001b[0m\u001b[1;33m\u001b[0m\u001b[0m\n\u001b[0m",
      "\u001b[1;31mNameError\u001b[0m: name 'sqrt' is not defined"
     ]
    }
   ],
   "source": [
    "sqrt(100)"
   ]
  },
  {
   "cell_type": "code",
   "execution_count": 30,
   "id": "1716c502",
   "metadata": {},
   "outputs": [],
   "source": [
    "sorted?"
   ]
  },
  {
   "cell_type": "code",
   "execution_count": 20,
   "id": "26d8d8d8",
   "metadata": {},
   "outputs": [],
   "source": [
    "emp_sal = {\n",
    "'1101' : 40000,\n",
    "'967' : 51000,\n",
    "'413' : 87000,\n",
    "'650' : 60000\n",
    "}\n"
   ]
  },
  {
   "cell_type": "code",
   "execution_count": 21,
   "id": "e3f68b99",
   "metadata": {},
   "outputs": [
    {
     "data": {
      "text/plain": [
       "{'1101': 40000, '967': 51000, '413': 87000, '650': 60000}"
      ]
     },
     "execution_count": 21,
     "metadata": {},
     "output_type": "execute_result"
    }
   ],
   "source": [
    "emp_sal\n"
   ]
  },
  {
   "cell_type": "code",
   "execution_count": 22,
   "id": "d9e57092",
   "metadata": {},
   "outputs": [
    {
     "data": {
      "text/plain": [
       "['1101', '413', '650', '967']"
      ]
     },
     "execution_count": 22,
     "metadata": {},
     "output_type": "execute_result"
    }
   ],
   "source": [
    "sorted(emp_sal)"
   ]
  },
  {
   "cell_type": "code",
   "execution_count": 25,
   "id": "fc96305c",
   "metadata": {},
   "outputs": [],
   "source": [
    "x=10"
   ]
  },
  {
   "cell_type": "code",
   "execution_count": 29,
   "id": "d1493fe3",
   "metadata": {},
   "outputs": [
    {
     "ename": "SyntaxError",
     "evalue": "invalid syntax (<ipython-input-29-a4fdf24a0b82>, line 1)",
     "output_type": "error",
     "traceback": [
      "\u001b[1;36m  File \u001b[1;32m\"<ipython-input-29-a4fdf24a0b82>\"\u001b[1;36m, line \u001b[1;32m1\u001b[0m\n\u001b[1;33m    global x=10\u001b[0m\n\u001b[1;37m            ^\u001b[0m\n\u001b[1;31mSyntaxError\u001b[0m\u001b[1;31m:\u001b[0m invalid syntax\n"
     ]
    }
   ],
   "source": [
    "global x=10\n",
    "def random():\n",
    "    \n",
    "    x=x+1\n",
    "    print(x)\n",
    "print(x)\n",
    "random()\n",
    "print(x)"
   ]
  },
  {
   "cell_type": "code",
   "execution_count": 45,
   "id": "14da50ce",
   "metadata": {},
   "outputs": [],
   "source": [
    "def size(a):\n",
    "    if(a>10 and a<20):\n",
    "        return \"s\"\n",
    "    elif (a>20):\n",
    "        return \"m\"\n",
    "    "
   ]
  },
  {
   "cell_type": "code",
   "execution_count": 46,
   "id": "04083bc2",
   "metadata": {},
   "outputs": [],
   "source": [
    "heights=[13,2,52,3,432,2,22]"
   ]
  },
  {
   "cell_type": "code",
   "execution_count": 48,
   "id": "4c4759f7",
   "metadata": {},
   "outputs": [
    {
     "ename": "TypeError",
     "evalue": "'>' not supported between instances of 'list' and 'int'",
     "output_type": "error",
     "traceback": [
      "\u001b[1;31m---------------------------------------------------------------------------\u001b[0m",
      "\u001b[1;31mTypeError\u001b[0m                                 Traceback (most recent call last)",
      "\u001b[1;32m<ipython-input-48-20ee200cb15b>\u001b[0m in \u001b[0;36m<module>\u001b[1;34m\u001b[0m\n\u001b[1;32m----> 1\u001b[1;33m \u001b[0msize\u001b[0m\u001b[1;33m(\u001b[0m\u001b[0mheights\u001b[0m\u001b[1;33m)\u001b[0m\u001b[1;33m\u001b[0m\u001b[1;33m\u001b[0m\u001b[0m\n\u001b[0m",
      "\u001b[1;32m<ipython-input-45-fad9816a3cee>\u001b[0m in \u001b[0;36msize\u001b[1;34m(a)\u001b[0m\n\u001b[0;32m      1\u001b[0m \u001b[1;32mdef\u001b[0m \u001b[0msize\u001b[0m\u001b[1;33m(\u001b[0m\u001b[0ma\u001b[0m\u001b[1;33m)\u001b[0m\u001b[1;33m:\u001b[0m\u001b[1;33m\u001b[0m\u001b[1;33m\u001b[0m\u001b[0m\n\u001b[1;32m----> 2\u001b[1;33m     \u001b[1;32mif\u001b[0m\u001b[1;33m(\u001b[0m\u001b[0ma\u001b[0m\u001b[1;33m>\u001b[0m\u001b[1;36m10\u001b[0m \u001b[1;32mand\u001b[0m \u001b[0ma\u001b[0m\u001b[1;33m<\u001b[0m\u001b[1;36m20\u001b[0m\u001b[1;33m)\u001b[0m\u001b[1;33m:\u001b[0m\u001b[1;33m\u001b[0m\u001b[1;33m\u001b[0m\u001b[0m\n\u001b[0m\u001b[0;32m      3\u001b[0m         \u001b[1;32mreturn\u001b[0m \u001b[1;34m\"s\"\u001b[0m\u001b[1;33m\u001b[0m\u001b[1;33m\u001b[0m\u001b[0m\n\u001b[0;32m      4\u001b[0m     \u001b[1;32melif\u001b[0m \u001b[1;33m(\u001b[0m\u001b[0ma\u001b[0m\u001b[1;33m>\u001b[0m\u001b[1;36m20\u001b[0m\u001b[1;33m)\u001b[0m\u001b[1;33m:\u001b[0m\u001b[1;33m\u001b[0m\u001b[1;33m\u001b[0m\u001b[0m\n\u001b[0;32m      5\u001b[0m         \u001b[1;32mreturn\u001b[0m \u001b[1;34m\"m\"\u001b[0m\u001b[1;33m\u001b[0m\u001b[1;33m\u001b[0m\u001b[0m\n",
      "\u001b[1;31mTypeError\u001b[0m: '>' not supported between instances of 'list' and 'int'"
     ]
    }
   ],
   "source": [
    "size(heights)"
   ]
  },
  {
   "cell_type": "code",
   "execution_count": 49,
   "id": "c96f4c1d",
   "metadata": {},
   "outputs": [],
   "source": [
    "map_obj=map(size,heights)"
   ]
  },
  {
   "cell_type": "code",
   "execution_count": 50,
   "id": "e9aa9e0b",
   "metadata": {},
   "outputs": [
    {
     "data": {
      "text/plain": [
       "['s', None, 'm', None, 'm', None, 'm']"
      ]
     },
     "execution_count": 50,
     "metadata": {},
     "output_type": "execute_result"
    }
   ],
   "source": [
    "list(map_obj)"
   ]
  },
  {
   "cell_type": "code",
   "execution_count": 51,
   "id": "724b937e",
   "metadata": {},
   "outputs": [],
   "source": [
    "ff=filter(lambda x:x=='s',heights)"
   ]
  },
  {
   "cell_type": "code",
   "execution_count": 52,
   "id": "dfea179c",
   "metadata": {},
   "outputs": [
    {
     "data": {
      "text/plain": [
       "[]"
      ]
     },
     "execution_count": 52,
     "metadata": {},
     "output_type": "execute_result"
    }
   ],
   "source": [
    "list(ff)"
   ]
  },
  {
   "cell_type": "code",
   "execution_count": 53,
   "id": "e7519a32",
   "metadata": {},
   "outputs": [],
   "source": [
    "#0 aaya list me kuki heights me s nai hai aapan ko map_obj ki list ko itrate krnahogga"
   ]
  },
  {
   "cell_type": "code",
   "execution_count": 55,
   "id": "75bee5df",
   "metadata": {},
   "outputs": [
    {
     "data": {
      "text/plain": [
       "4.57"
      ]
     },
     "execution_count": 55,
     "metadata": {},
     "output_type": "execute_result"
    }
   ],
   "source": [
    "round(4.5676,2)"
   ]
  },
  {
   "cell_type": "code",
   "execution_count": 56,
   "id": "98695fba",
   "metadata": {},
   "outputs": [
    {
     "data": {
      "text/plain": [
       "[(0, 2), (1, 3)]"
      ]
     },
     "execution_count": 56,
     "metadata": {},
     "output_type": "execute_result"
    }
   ],
   "source": [
    "list(enumerate([2, 3]))\n"
   ]
  },
  {
   "cell_type": "code",
   "execution_count": 58,
   "id": "76db7e54",
   "metadata": {},
   "outputs": [
    {
     "name": "stdout",
     "output_type": "stream",
     "text": [
      "120\n"
     ]
    }
   ],
   "source": [
    "from math import factorial\n",
    "\n",
    "\n",
    "print(factorial(5))"
   ]
  },
  {
   "cell_type": "code",
   "execution_count": 59,
   "id": "3854ecd8",
   "metadata": {},
   "outputs": [
    {
     "name": "stdout",
     "output_type": "stream",
     "text": [
      "abc def\n"
     ]
    }
   ],
   "source": [
    "a=input()"
   ]
  },
  {
   "cell_type": "code",
   "execution_count": 61,
   "id": "bef03eb6",
   "metadata": {},
   "outputs": [
    {
     "data": {
      "text/plain": [
       "'abc def'"
      ]
     },
     "execution_count": 61,
     "metadata": {},
     "output_type": "execute_result"
    }
   ],
   "source": [
    "a"
   ]
  },
  {
   "cell_type": "code",
   "execution_count": 65,
   "id": "a1f0acda",
   "metadata": {},
   "outputs": [],
   "source": [
    "b=a.split(\" \")"
   ]
  },
  {
   "cell_type": "code",
   "execution_count": 67,
   "id": "634b77e1",
   "metadata": {},
   "outputs": [
    {
     "data": {
      "text/plain": [
       "['abc', 'def']"
      ]
     },
     "execution_count": 67,
     "metadata": {},
     "output_type": "execute_result"
    }
   ],
   "source": [
    "b"
   ]
  },
  {
   "cell_type": "code",
   "execution_count": 83,
   "id": "8fbe352c",
   "metadata": {},
   "outputs": [
    {
     "name": "stdout",
     "output_type": "stream",
     "text": [
      "('grapes', 'help', 'orange')\n"
     ]
    }
   ],
   "source": [
    "txt =[(\"grapes\", \"help\", \"orange\" )]\n",
    "for x in txt:\n",
    "\n",
    "    print(x)"
   ]
  },
  {
   "cell_type": "code",
   "execution_count": 11,
   "id": "2c83a38d",
   "metadata": {},
   "outputs": [],
   "source": [
    "a=0\n",
    "import sympy\n",
    "def findNthPrime(n):\n",
    "    for i in range(2,n):\n",
    "        if(sympy.isprime(i)== True):\n",
    "            a=i\n",
    "            continue\n",
    "    print(i)\n",
    "           \n",
    "            \n"
   ]
  },
  {
   "cell_type": "code",
   "execution_count": 12,
   "id": "4261349d",
   "metadata": {},
   "outputs": [
    {
     "name": "stdout",
     "output_type": "stream",
     "text": [
      "9\n"
     ]
    }
   ],
   "source": [
    "findNthPrime(10)"
   ]
  },
  {
   "cell_type": "code",
   "execution_count": null,
   "id": "4f93f3c0",
   "metadata": {},
   "outputs": [],
   "source": [
    "n = 1000005\n",
    "   \n",
    "  # Create a boolean array \"prime[0..n]\" and\n",
    "  # initialize all entries it as true. A value\n",
    "  # in prime[i] will finally be false if i is\n",
    "  # Not a prime, else true.\n",
    "  prime = [True for i in range(n + 1)]\n",
    "   \n",
    "  p = 2\n",
    "  while (p * p <= n):\n",
    "         \n",
    "      # If prime[p] is not changed,\n",
    "      # then it is a prime\n",
    "      if (prime[p] == True):\n",
    "             \n",
    "          # Update all multiples of p\n",
    "          for i in range(p * p, n + 1, p):\n",
    "              prime[i] = False\n",
    "               \n",
    "      p += 1\n",
    "     \n",
    "  # Print all prime numbers\n",
    "  for p in range(2, n + 1):\n",
    "      if prime[p]:\n",
    "          primes.append(p)"
   ]
  }
 ],
 "metadata": {
  "kernelspec": {
   "display_name": "Python 3",
   "language": "python",
   "name": "python3"
  },
  "language_info": {
   "codemirror_mode": {
    "name": "ipython",
    "version": 3
   },
   "file_extension": ".py",
   "mimetype": "text/x-python",
   "name": "python",
   "nbconvert_exporter": "python",
   "pygments_lexer": "ipython3",
   "version": "3.8.8"
  }
 },
 "nbformat": 4,
 "nbformat_minor": 5
}
