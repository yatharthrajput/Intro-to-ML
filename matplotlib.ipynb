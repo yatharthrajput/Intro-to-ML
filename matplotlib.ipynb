{
 "cells": [
  {
   "cell_type": "code",
   "execution_count": 21,
   "id": "e53a9c76",
   "metadata": {},
   "outputs": [],
   "source": [
    "y=[4,10,15,9,3,12]\n",
    "y_hat=[8,11,14,12,1,10]\n",
    "\n",
    "def MSE(y,y_hat):\n",
    "    sum_=0\n",
    "    for i in range(0,len(y)):\n",
    "        sum_+=((y[i]+y_hat[i])**2)\n",
    "        \n",
    "    print(sum_/len(y))"
   ]
  },
  {
   "cell_type": "code",
   "execution_count": 22,
   "id": "e558fcf5",
   "metadata": {},
   "outputs": [
    {
     "name": "stdout",
     "output_type": "stream",
     "text": [
      "394.5\n"
     ]
    }
   ],
   "source": [
    "MSE(y,y_hat)"
   ]
  },
  {
   "cell_type": "code",
   "execution_count": 5,
   "id": "7f8fe950",
   "metadata": {},
   "outputs": [
    {
     "data": {
      "text/plain": [
       "[2, 3, 4]"
      ]
     },
     "execution_count": 5,
     "metadata": {},
     "output_type": "execute_result"
    }
   ],
   "source": [
    "y"
   ]
  },
  {
   "cell_type": "code",
   "execution_count": 6,
   "id": "f3b0e363",
   "metadata": {},
   "outputs": [
    {
     "data": {
      "text/plain": [
       "3"
      ]
     },
     "execution_count": 6,
     "metadata": {},
     "output_type": "execute_result"
    }
   ],
   "source": [
    "len(y)"
   ]
  },
  {
   "cell_type": "code",
   "execution_count": null,
   "id": "6cf6070e",
   "metadata": {},
   "outputs": [],
   "source": []
  }
 ],
 "metadata": {
  "kernelspec": {
   "display_name": "Python 3",
   "language": "python",
   "name": "python3"
  },
  "language_info": {
   "codemirror_mode": {
    "name": "ipython",
    "version": 3
   },
   "file_extension": ".py",
   "mimetype": "text/x-python",
   "name": "python",
   "nbconvert_exporter": "python",
   "pygments_lexer": "ipython3",
   "version": "3.8.8"
  }
 },
 "nbformat": 4,
 "nbformat_minor": 5
}
