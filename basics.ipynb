{
 "cells": [
  {
   "cell_type": "code",
   "execution_count": 1,
   "id": "4c74f975",
   "metadata": {},
   "outputs": [],
   "source": [
    "food_review = \"\"\"We visited this place for breakfast and dinner.\n",
    "The place is very conveniently located with ample parking space.\n",
    "The food at both the meals was tasty and definitely worth the price.\n",
    "Good quantity served per portion. Service as also good.\n",
    "Overall, a good place to have food (both south indian and north indian).\n",
    "Would recommend it definitely\"\"\""
   ]
  },
  {
   "cell_type": "code",
   "execution_count": 3,
   "id": "07a9dcfe",
   "metadata": {},
   "outputs": [
    {
     "data": {
      "text/plain": [
       "True"
      ]
     },
     "execution_count": 3,
     "metadata": {},
     "output_type": "execute_result"
    }
   ],
   "source": [
    "\"good\" in food_review"
   ]
  },
  {
   "cell_type": "code",
   "execution_count": 7,
   "id": "35ad8f21",
   "metadata": {},
   "outputs": [
    {
     "name": "stdout",
     "output_type": "stream",
     "text": [
      "1\n",
      "2\n",
      "3\n",
      "4\n",
      "5\n",
      "6\n",
      "7\n",
      "8\n",
      "9\n",
      "10\n"
     ]
    }
   ],
   "source": [
    "i=0\n",
    "while(i<10):\n",
    "    i=i+1\n",
    "    print(i)"
   ]
  },
  {
   "cell_type": "code",
   "execution_count": 9,
   "id": "4c5f2404",
   "metadata": {},
   "outputs": [
    {
     "name": "stdout",
     "output_type": "stream",
     "text": [
      "1 2 3 4 5 6 7 8 9 10 "
     ]
    }
   ],
   "source": [
    "i=0\n",
    "while(i<10):\n",
    "    i=i+1\n",
    "    print(i,end=\" \")"
   ]
  },
  {
   "cell_type": "code",
   "execution_count": 15,
   "id": "79f4103b",
   "metadata": {},
   "outputs": [
    {
     "name": "stdout",
     "output_type": "stream",
     "text": [
      "10 9 8 7 6 5 4 3 2 1 "
     ]
    }
   ],
   "source": [
    "i=34871290654291\n",
    "for i in range(10,0,-1):\n",
    "    print(i,end=\" \")"
   ]
  },
  {
   "cell_type": "code",
   "execution_count": 16,
   "id": "6a9a3cd8",
   "metadata": {},
   "outputs": [
    {
     "name": "stdout",
     "output_type": "stream",
     "text": [
      "range(2, 10)\n"
     ]
    }
   ],
   "source": [
    "print(range(2,10))"
   ]
  },
  {
   "cell_type": "code",
   "execution_count": 17,
   "id": "61c2ff01",
   "metadata": {},
   "outputs": [],
   "source": [
    "#range is a genrator function\n"
   ]
  },
  {
   "cell_type": "code",
   "execution_count": 18,
   "id": "711631d6",
   "metadata": {},
   "outputs": [
    {
     "name": "stdout",
     "output_type": "stream",
     "text": [
      "range(0, 4)\n"
     ]
    }
   ],
   "source": [
    "print(range(4))"
   ]
  },
  {
   "cell_type": "code",
   "execution_count": 6,
   "id": "7ece3653",
   "metadata": {},
   "outputs": [
    {
     "name": "stdout",
     "output_type": "stream",
     "text": [
      "a\n",
      "1\n"
     ]
    }
   ],
   "source": [
    "a=input()\n",
    "if(a==\"a\" or a==\"e\" or a==\"o\" or a==\"u\"):\n",
    "    print(1)\n",
    "else:\n",
    "    print(0)"
   ]
  },
  {
   "cell_type": "code",
   "execution_count": 6,
   "id": "f668bac1",
   "metadata": {},
   "outputs": [
    {
     "name": "stdout",
     "output_type": "stream",
     "text": [
      "50\n"
     ]
    }
   ],
   "source": [
    "N=int(input())\n",
    "for num in range(2, N + 1):\n",
    "    \n",
    "    i = 0\n",
    "    for i in range(2, num):\n",
    "        if(num % i == 0):\n",
    "            \n",
    "            i = num\n",
    "            break;\n",
    "            \n",
    "if(i != num):\n",
    "            print(num, end=\" \")"
   ]
  },
  {
   "cell_type": "code",
   "execution_count": 9,
   "id": "e9e14f0b",
   "metadata": {},
   "outputs": [],
   "source": [
    "a = tuple(['a', 'b', 'c', ['ad'], {'a':1}])"
   ]
  },
  {
   "cell_type": "code",
   "execution_count": 14,
   "id": "5f738cb4",
   "metadata": {},
   "outputs": [
    {
     "name": "stdout",
     "output_type": "stream",
     "text": [
      "{'football', 'byee', 'NFL', 'cricket', 'hii', 'MLB'}\n"
     ]
    }
   ],
   "source": [
    "sample_set = {\"cricket\", \"NFL\", \"MLB\"}\n",
    "sample_set.add(\"football\")\n",
    "sample_set.add(\"NFL\")\n",
    "sample_set.add(\"hii\")\n",
    "sample_set.add(\"byee\")\n",
    "print(sample_set)"
   ]
  },
  {
   "cell_type": "code",
   "execution_count": 15,
   "id": "5b0c6ff6",
   "metadata": {},
   "outputs": [
    {
     "data": {
      "text/plain": [
       "set"
      ]
     },
     "execution_count": 15,
     "metadata": {},
     "output_type": "execute_result"
    }
   ],
   "source": [
    "type(sample_set)"
   ]
  },
  {
   "cell_type": "code",
   "execution_count": 38,
   "id": "eafed81e",
   "metadata": {},
   "outputs": [],
   "source": [
    "set1 = {1, 2, 3, 4, 5,'apple','b','app'}\n",
    "\n",
    "# a list of numbers to add\n",
    "list_to_add = [5, 3, 2,0,'pen','a','ap']\n",
    "\n",
    "# add all elements of list to the set\n",
    "set1.update(list_to_add)"
   ]
  },
  {
   "cell_type": "code",
   "execution_count": 39,
   "id": "88c459f6",
   "metadata": {},
   "outputs": [
    {
     "name": "stdout",
     "output_type": "stream",
     "text": [
      "{0, 1, 2, 3, 4, 5, 'apple', 'a', 'ap', 'b', 'pen', 'app'}\n"
     ]
    }
   ],
   "source": [
    "print(set1)"
   ]
  },
  {
   "cell_type": "code",
   "execution_count": 32,
   "id": "5d203541",
   "metadata": {},
   "outputs": [],
   "source": [
    "set2 = {11, 12, 13, 14}\n",
    "\n",
    "# 3 lists of numbers\n",
    "list1 = [15, 16, 17]\n",
    "list2 = [18, 19]\n",
    "list3 = [30, 31, 19, 17]\n",
    "\n",
    "# Add multiple lists\n",
    "set2.update(list1, list2, list3)"
   ]
  },
  {
   "cell_type": "code",
   "execution_count": 33,
   "id": "c310ff30",
   "metadata": {},
   "outputs": [
    {
     "name": "stdout",
     "output_type": "stream",
     "text": [
      "{11, 12, 13, 14, 15, 16, 17, 18, 19, 30, 31}\n"
     ]
    }
   ],
   "source": [
    "print(set2)"
   ]
  },
  {
   "cell_type": "code",
   "execution_count": null,
   "id": "af0055cd",
   "metadata": {},
   "outputs": [],
   "source": []
  },
  {
   "cell_type": "code",
   "execution_count": 2,
   "id": "b693dfc3",
   "metadata": {},
   "outputs": [],
   "source": [
    "sampleDict = { \n",
    "   \"class\":{ \n",
    "      \"student\":{ \n",
    "         \"name\":\"Mike\",\n",
    "         \"marks\":{ \n",
    "            \"physics\":70,\n",
    "            \"history\":80\n",
    "         }\n",
    "      }\n",
    "   }\n",
    "}"
   ]
  },
  {
   "cell_type": "code",
   "execution_count": 3,
   "id": "8f4a9fdd",
   "metadata": {},
   "outputs": [
    {
     "data": {
      "text/plain": [
       "80"
      ]
     },
     "execution_count": 3,
     "metadata": {},
     "output_type": "execute_result"
    }
   ],
   "source": [
    "sampleDict['class']['student']['marks']['history']"
   ]
  },
  {
   "cell_type": "code",
   "execution_count": 4,
   "id": "6e935f0a",
   "metadata": {},
   "outputs": [],
   "source": [
    "t = tuple(['a', 'b', 'c', ['ad']])"
   ]
  },
  {
   "cell_type": "code",
   "execution_count": 5,
   "id": "f313d4cc",
   "metadata": {},
   "outputs": [
    {
     "data": {
      "text/plain": [
       "['ad']"
      ]
     },
     "execution_count": 5,
     "metadata": {},
     "output_type": "execute_result"
    }
   ],
   "source": [
    "t[3]"
   ]
  },
  {
   "cell_type": "code",
   "execution_count": 6,
   "id": "5d94904a",
   "metadata": {},
   "outputs": [],
   "source": [
    "a=['1']"
   ]
  },
  {
   "cell_type": "code",
   "execution_count": 7,
   "id": "d7c1a071",
   "metadata": {},
   "outputs": [
    {
     "name": "stdout",
     "output_type": "stream",
     "text": [
      "['1']\n"
     ]
    }
   ],
   "source": [
    "print(a)"
   ]
  },
  {
   "cell_type": "code",
   "execution_count": 8,
   "id": "38ce253e",
   "metadata": {},
   "outputs": [],
   "source": [
    "a=a.append('2')"
   ]
  },
  {
   "cell_type": "code",
   "execution_count": null,
   "id": "0cf2d1bf",
   "metadata": {},
   "outputs": [],
   "source": []
  }
 ],
 "metadata": {
  "kernelspec": {
   "display_name": "Python 3",
   "language": "python",
   "name": "python3"
  },
  "language_info": {
   "codemirror_mode": {
    "name": "ipython",
    "version": 3
   },
   "file_extension": ".py",
   "mimetype": "text/x-python",
   "name": "python",
   "nbconvert_exporter": "python",
   "pygments_lexer": "ipython3",
   "version": "3.8.8"
  }
 },
 "nbformat": 4,
 "nbformat_minor": 5
}
